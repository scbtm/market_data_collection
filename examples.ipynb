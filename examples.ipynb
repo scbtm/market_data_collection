{
 "cells": [
  {
   "cell_type": "markdown",
   "metadata": {},
   "source": [
    "### We demonstrate how the data collection pipeline works in a few different scenarios"
   ]
  },
  {
   "cell_type": "markdown",
   "metadata": {},
   "source": [
    "#### Case 1: first time running the pipeline"
   ]
  },
  {
   "cell_type": "code",
   "execution_count": 1,
   "metadata": {},
   "outputs": [],
   "source": [
    "from data_collection.stock import StockMetadataManager, StockDataCollector\n",
    "from data_collection.config import constants as Config\n",
    "\n",
    "import pandas as pd\n",
    "import logging\n",
    "\n",
    "# Set up logging to print to stdout, which Cloud Run will capture\n",
    "logging.basicConfig(level=logging.INFO)\n",
    "\n",
    "# Initialize your classes outside of the endpoint\n",
    "metadata_manager = StockMetadataManager(config=Config)\n",
    "data_collector = StockDataCollector(metadata_manager=metadata_manager)\n",
    "\n",
    "def trigger_pipeline():\n",
    "    try:\n",
    "        data, metadata = data_collector.run_ingestion_pipeline_localy()\n",
    "        if data is not None and metadata is not None:\n",
    "            logging.info(\"Data ingestion completed successfully.\")\n",
    "            \n",
    "            # Attempt to save the updates, catching any exceptions that occur\n",
    "            try:\n",
    "                data_collector.save_updates(data=data, metadata=metadata)\n",
    "                logging.info(\"Data saved successfully.\")\n",
    "                return {\"message\": \"Data ingestion and save completed successfully.\"}\n",
    "            except Exception as save_exception:\n",
    "                logging.exception(\"Error occurred during data save.\")\n",
    "                return {\"message\": f\"An error occurred during data save: {save_exception}\"}\n",
    "\n",
    "        else:\n",
    "            logging.error(\"Data ingestion completed, but no data was returned.\")\n",
    "            return {\"message\": \"Data ingestion completed, but no data was returned.\"}\n",
    "    except Exception as e:\n",
    "        logging.exception(\"Error occurred during data ingestion.\")\n",
    "        return {\"message\": f\"An error occurred during data ingestion: {e}\"}"
   ]
  },
  {
   "cell_type": "code",
   "execution_count": 2,
   "metadata": {},
   "outputs": [
    {
     "data": {
      "text/plain": [
       "{'remote': {'bucket': 'stock_data_lake',\n",
       "  'ticker_file': 'stock_data_lake/tickers.csv',\n",
       "  'data_folder': 'stock_data_lake/data',\n",
       "  'metadata_file': 'stock_data_lake/data/metadata.csv',\n",
       "  'data_file': 'stock_data_lake/data/stock_history.csv'}}"
      ]
     },
     "execution_count": 2,
     "metadata": {},
     "output_type": "execute_result"
    }
   ],
   "source": [
    "Config"
   ]
  },
  {
   "cell_type": "markdown",
   "metadata": {},
   "source": [
    "There is no metadata or data file in the 'bucket', so any ticker in the ticker file will have to be ingested."
   ]
  },
  {
   "cell_type": "code",
   "execution_count": 3,
   "metadata": {},
   "outputs": [
    {
     "data": {
      "text/html": [
       "<div>\n",
       "<style scoped>\n",
       "    .dataframe tbody tr th:only-of-type {\n",
       "        vertical-align: middle;\n",
       "    }\n",
       "\n",
       "    .dataframe tbody tr th {\n",
       "        vertical-align: top;\n",
       "    }\n",
       "\n",
       "    .dataframe thead th {\n",
       "        text-align: right;\n",
       "    }\n",
       "</style>\n",
       "<table border=\"1\" class=\"dataframe\">\n",
       "  <thead>\n",
       "    <tr style=\"text-align: right;\">\n",
       "      <th></th>\n",
       "      <th>Ticker</th>\n",
       "    </tr>\n",
       "  </thead>\n",
       "  <tbody>\n",
       "    <tr>\n",
       "      <th>0</th>\n",
       "      <td>AAPL</td>\n",
       "    </tr>\n",
       "    <tr>\n",
       "      <th>1</th>\n",
       "      <td>MSFT</td>\n",
       "    </tr>\n",
       "  </tbody>\n",
       "</table>\n",
       "</div>"
      ],
      "text/plain": [
       "  Ticker\n",
       "0   AAPL\n",
       "1   MSFT"
      ]
     },
     "execution_count": 3,
     "metadata": {},
     "output_type": "execute_result"
    }
   ],
   "source": [
    "tickers = pd.DataFrame({'Ticker': ['AAPL', 'MSFT']})\n",
    "tickers.to_csv(Config['remote']['ticker_file'], index = False)\n",
    "\n",
    "tickers"
   ]
  },
  {
   "cell_type": "code",
   "execution_count": 4,
   "metadata": {},
   "outputs": [
    {
     "name": "stdout",
     "output_type": "stream",
     "text": [
      "All tickers will be ingested. No metadata csv file found stock_data_lake/data/metadata.csv.\n"
     ]
    },
    {
     "name": "stderr",
     "output_type": "stream",
     "text": [
      "INFO:root:Data ingestion completed successfully.\n",
      "INFO:root:No existing data or metadata found. Writing new data and metadata\n"
     ]
    },
    {
     "name": "stdout",
     "output_type": "stream",
     "text": [
      "First time ingestion: No data csv file found stock_data_lake/data/stock_history.csv.\n",
      "All tickers will be ingested. No metadata csv file found stock_data_lake/data/metadata.csv.\n"
     ]
    },
    {
     "name": "stderr",
     "output_type": "stream",
     "text": [
      "INFO:root:Data saved successfully.\n"
     ]
    },
    {
     "data": {
      "text/plain": [
       "{'message': 'Data ingestion and save completed successfully.'}"
      ]
     },
     "execution_count": 4,
     "metadata": {},
     "output_type": "execute_result"
    }
   ],
   "source": [
    "trigger_pipeline()"
   ]
  },
  {
   "cell_type": "code",
   "execution_count": 5,
   "metadata": {},
   "outputs": [],
   "source": [
    "data = pd.read_csv(Config['remote']['data_file'])\n",
    "metadata = pd.read_csv(Config['remote']['metadata_file'])"
   ]
  },
  {
   "cell_type": "code",
   "execution_count": 6,
   "metadata": {},
   "outputs": [
    {
     "data": {
      "text/html": [
       "<div>\n",
       "<style scoped>\n",
       "    .dataframe tbody tr th:only-of-type {\n",
       "        vertical-align: middle;\n",
       "    }\n",
       "\n",
       "    .dataframe tbody tr th {\n",
       "        vertical-align: top;\n",
       "    }\n",
       "\n",
       "    .dataframe thead th {\n",
       "        text-align: right;\n",
       "    }\n",
       "</style>\n",
       "<table border=\"1\" class=\"dataframe\">\n",
       "  <thead>\n",
       "    <tr style=\"text-align: right;\">\n",
       "      <th></th>\n",
       "      <th>Date</th>\n",
       "      <th>Open</th>\n",
       "      <th>High</th>\n",
       "      <th>Low</th>\n",
       "      <th>Close</th>\n",
       "      <th>Volume</th>\n",
       "      <th>Ticker</th>\n",
       "    </tr>\n",
       "  </thead>\n",
       "  <tbody>\n",
       "    <tr>\n",
       "      <th>0</th>\n",
       "      <td>1980-12-12</td>\n",
       "      <td>0.099319</td>\n",
       "      <td>0.099750</td>\n",
       "      <td>0.099319</td>\n",
       "      <td>0.099319</td>\n",
       "      <td>469033600</td>\n",
       "      <td>AAPL</td>\n",
       "    </tr>\n",
       "    <tr>\n",
       "      <th>1</th>\n",
       "      <td>1980-12-13</td>\n",
       "      <td>0.099319</td>\n",
       "      <td>0.099750</td>\n",
       "      <td>0.099319</td>\n",
       "      <td>0.099319</td>\n",
       "      <td>469033600</td>\n",
       "      <td>AAPL</td>\n",
       "    </tr>\n",
       "    <tr>\n",
       "      <th>2</th>\n",
       "      <td>1980-12-14</td>\n",
       "      <td>0.099319</td>\n",
       "      <td>0.099750</td>\n",
       "      <td>0.099319</td>\n",
       "      <td>0.099319</td>\n",
       "      <td>469033600</td>\n",
       "      <td>AAPL</td>\n",
       "    </tr>\n",
       "    <tr>\n",
       "      <th>3</th>\n",
       "      <td>1980-12-15</td>\n",
       "      <td>0.094569</td>\n",
       "      <td>0.094569</td>\n",
       "      <td>0.094137</td>\n",
       "      <td>0.094137</td>\n",
       "      <td>175884800</td>\n",
       "      <td>AAPL</td>\n",
       "    </tr>\n",
       "    <tr>\n",
       "      <th>4</th>\n",
       "      <td>1980-12-16</td>\n",
       "      <td>0.087659</td>\n",
       "      <td>0.087659</td>\n",
       "      <td>0.087228</td>\n",
       "      <td>0.087228</td>\n",
       "      <td>105728000</td>\n",
       "      <td>AAPL</td>\n",
       "    </tr>\n",
       "    <tr>\n",
       "      <th>...</th>\n",
       "      <td>...</td>\n",
       "      <td>...</td>\n",
       "      <td>...</td>\n",
       "      <td>...</td>\n",
       "      <td>...</td>\n",
       "      <td>...</td>\n",
       "      <td>...</td>\n",
       "    </tr>\n",
       "    <tr>\n",
       "      <th>29454</th>\n",
       "      <td>2023-11-20</td>\n",
       "      <td>371.220001</td>\n",
       "      <td>378.869995</td>\n",
       "      <td>371.000000</td>\n",
       "      <td>377.440002</td>\n",
       "      <td>52465100</td>\n",
       "      <td>MSFT</td>\n",
       "    </tr>\n",
       "    <tr>\n",
       "      <th>29455</th>\n",
       "      <td>2023-11-21</td>\n",
       "      <td>375.670013</td>\n",
       "      <td>376.220001</td>\n",
       "      <td>371.119995</td>\n",
       "      <td>373.070007</td>\n",
       "      <td>28423100</td>\n",
       "      <td>MSFT</td>\n",
       "    </tr>\n",
       "    <tr>\n",
       "      <th>29456</th>\n",
       "      <td>2023-11-22</td>\n",
       "      <td>378.000000</td>\n",
       "      <td>379.790009</td>\n",
       "      <td>374.970001</td>\n",
       "      <td>377.850006</td>\n",
       "      <td>23345300</td>\n",
       "      <td>MSFT</td>\n",
       "    </tr>\n",
       "    <tr>\n",
       "      <th>29457</th>\n",
       "      <td>2023-11-23</td>\n",
       "      <td>378.000000</td>\n",
       "      <td>379.790009</td>\n",
       "      <td>374.970001</td>\n",
       "      <td>377.850006</td>\n",
       "      <td>23345300</td>\n",
       "      <td>MSFT</td>\n",
       "    </tr>\n",
       "    <tr>\n",
       "      <th>29458</th>\n",
       "      <td>2023-11-24</td>\n",
       "      <td>377.329987</td>\n",
       "      <td>377.970001</td>\n",
       "      <td>375.140015</td>\n",
       "      <td>377.429993</td>\n",
       "      <td>10176600</td>\n",
       "      <td>MSFT</td>\n",
       "    </tr>\n",
       "  </tbody>\n",
       "</table>\n",
       "<p>29459 rows × 7 columns</p>\n",
       "</div>"
      ],
      "text/plain": [
       "             Date        Open        High         Low       Close     Volume  \\\n",
       "0      1980-12-12    0.099319    0.099750    0.099319    0.099319  469033600   \n",
       "1      1980-12-13    0.099319    0.099750    0.099319    0.099319  469033600   \n",
       "2      1980-12-14    0.099319    0.099750    0.099319    0.099319  469033600   \n",
       "3      1980-12-15    0.094569    0.094569    0.094137    0.094137  175884800   \n",
       "4      1980-12-16    0.087659    0.087659    0.087228    0.087228  105728000   \n",
       "...           ...         ...         ...         ...         ...        ...   \n",
       "29454  2023-11-20  371.220001  378.869995  371.000000  377.440002   52465100   \n",
       "29455  2023-11-21  375.670013  376.220001  371.119995  373.070007   28423100   \n",
       "29456  2023-11-22  378.000000  379.790009  374.970001  377.850006   23345300   \n",
       "29457  2023-11-23  378.000000  379.790009  374.970001  377.850006   23345300   \n",
       "29458  2023-11-24  377.329987  377.970001  375.140015  377.429993   10176600   \n",
       "\n",
       "      Ticker  \n",
       "0       AAPL  \n",
       "1       AAPL  \n",
       "2       AAPL  \n",
       "3       AAPL  \n",
       "4       AAPL  \n",
       "...      ...  \n",
       "29454   MSFT  \n",
       "29455   MSFT  \n",
       "29456   MSFT  \n",
       "29457   MSFT  \n",
       "29458   MSFT  \n",
       "\n",
       "[29459 rows x 7 columns]"
      ]
     },
     "execution_count": 6,
     "metadata": {},
     "output_type": "execute_result"
    }
   ],
   "source": [
    "data"
   ]
  },
  {
   "cell_type": "code",
   "execution_count": 7,
   "metadata": {},
   "outputs": [
    {
     "data": {
      "text/html": [
       "<div>\n",
       "<style scoped>\n",
       "    .dataframe tbody tr th:only-of-type {\n",
       "        vertical-align: middle;\n",
       "    }\n",
       "\n",
       "    .dataframe tbody tr th {\n",
       "        vertical-align: top;\n",
       "    }\n",
       "\n",
       "    .dataframe thead th {\n",
       "        text-align: right;\n",
       "    }\n",
       "</style>\n",
       "<table border=\"1\" class=\"dataframe\">\n",
       "  <thead>\n",
       "    <tr style=\"text-align: right;\">\n",
       "      <th></th>\n",
       "      <th>ticker</th>\n",
       "      <th>ingestion_date</th>\n",
       "      <th>first_day</th>\n",
       "      <th>last_day</th>\n",
       "      <th>timespan</th>\n",
       "      <th>final_df_length</th>\n",
       "      <th>input_null_values</th>\n",
       "      <th>processed_null_values</th>\n",
       "    </tr>\n",
       "  </thead>\n",
       "  <tbody>\n",
       "    <tr>\n",
       "      <th>0</th>\n",
       "      <td>AAPL</td>\n",
       "      <td>2023-11-26</td>\n",
       "      <td>1980-12-12</td>\n",
       "      <td>2023-11-24</td>\n",
       "      <td>15688</td>\n",
       "      <td>15688</td>\n",
       "      <td>0</td>\n",
       "      <td>0</td>\n",
       "    </tr>\n",
       "    <tr>\n",
       "      <th>1</th>\n",
       "      <td>MSFT</td>\n",
       "      <td>2023-11-26</td>\n",
       "      <td>1986-03-13</td>\n",
       "      <td>2023-11-24</td>\n",
       "      <td>13771</td>\n",
       "      <td>13771</td>\n",
       "      <td>0</td>\n",
       "      <td>0</td>\n",
       "    </tr>\n",
       "  </tbody>\n",
       "</table>\n",
       "</div>"
      ],
      "text/plain": [
       "  ticker ingestion_date   first_day    last_day  timespan  final_df_length  \\\n",
       "0   AAPL     2023-11-26  1980-12-12  2023-11-24     15688            15688   \n",
       "1   MSFT     2023-11-26  1986-03-13  2023-11-24     13771            13771   \n",
       "\n",
       "   input_null_values  processed_null_values  \n",
       "0                  0                      0  \n",
       "1                  0                      0  "
      ]
     },
     "execution_count": 7,
     "metadata": {},
     "output_type": "execute_result"
    }
   ],
   "source": [
    "metadata"
   ]
  },
  {
   "cell_type": "code",
   "execution_count": null,
   "metadata": {},
   "outputs": [],
   "source": []
  }
 ],
 "metadata": {
  "kernelspec": {
   "display_name": "market-data-collection-mdp4-OA7-py3.10",
   "language": "python",
   "name": "python3"
  },
  "language_info": {
   "codemirror_mode": {
    "name": "ipython",
    "version": 3
   },
   "file_extension": ".py",
   "mimetype": "text/x-python",
   "name": "python",
   "nbconvert_exporter": "python",
   "pygments_lexer": "ipython3",
   "version": "3.10.8"
  }
 },
 "nbformat": 4,
 "nbformat_minor": 2
}
